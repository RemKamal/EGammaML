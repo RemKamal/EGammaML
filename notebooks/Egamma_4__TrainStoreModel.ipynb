{
 "cells": [
  {
   "cell_type": "markdown",
   "metadata": {},
   "source": [
    "# In this notebook we will train the ML model on barrel electrons' data.\n",
    "### Start with imports, as usual, and 'usage' function."
   ]
  },
  {
   "cell_type": "code",
   "execution_count": 1,
   "metadata": {},
   "outputs": [],
   "source": [
    "%matplotlib inline\n",
    "import matplotlib.pyplot as plt\n",
    "import IPython\n",
    "import pandas as pd\n"
   ]
  },
  {
   "cell_type": "code",
   "execution_count": 2,
   "metadata": {},
   "outputs": [],
   "source": [
    "#memory usage and release \n",
    "#https://stackoverflow.com/questions/39100971/how-do-i-release-memory-used-by-a-pandas-dataframe\n",
    "\n",
    "import os, psutil, numpy as np    \n",
    "def usage():\n",
    "    process = psutil.Process(os.getpid())\n",
    "    return process.memory_info()[0] / float(2 ** 20)\n"
   ]
  },
  {
   "cell_type": "code",
   "execution_count": 3,
   "metadata": {},
   "outputs": [
    {
     "data": {
      "text/plain": [
       "220.80859375"
      ]
     },
     "execution_count": 3,
     "metadata": {},
     "output_type": "execute_result"
    }
   ],
   "source": [
    "usage()"
   ]
  },
  {
   "cell_type": "markdown",
   "metadata": {},
   "source": [
    "### Load the train, validation, and test sets (data and target) we stored using the previous notebook."
   ]
  },
  {
   "cell_type": "code",
   "execution_count": 4,
   "metadata": {},
   "outputs": [],
   "source": [
    "\n",
    "x_train = np.load('x_train.npy')\n",
    "y_train = np.load('y_train.npy')\n",
    "\n",
    "x_test = np.load('x_test.npy')\n",
    "y_test = np.load('y_test.npy')\n",
    "\n",
    "x_val = np.load('x_val.npy')\n",
    "y_val = np.load('y_val.npy')"
   ]
  },
  {
   "cell_type": "code",
   "execution_count": 5,
   "metadata": {},
   "outputs": [
    {
     "data": {
      "text/plain": [
       "1311.83984375"
      ]
     },
     "execution_count": 5,
     "metadata": {},
     "output_type": "execute_result"
    }
   ],
   "source": [
    "#df=pd.DataFrame(x_train)\n",
    "usage()"
   ]
  },
  {
   "cell_type": "code",
   "execution_count": 6,
   "metadata": {},
   "outputs": [
    {
     "data": {
      "text/plain": [
       "(5162880, 32)"
      ]
     },
     "execution_count": 6,
     "metadata": {},
     "output_type": "execute_result"
    }
   ],
   "source": [
    "x_train.shape"
   ]
  },
  {
   "cell_type": "code",
   "execution_count": 7,
   "metadata": {},
   "outputs": [],
   "source": [
    "def print_long_dataframe():\n",
    "    pd.set_option('display.max_columns', None)  \n",
    "    pd.set_option('display.expand_frame_repr', False)\n",
    "    pd.set_option('max_colwidth', -1)\n",
    "print_long_dataframe()"
   ]
  },
  {
   "cell_type": "code",
   "execution_count": 8,
   "metadata": {},
   "outputs": [
    {
     "data": {
      "text/plain": [
       "1322.5"
      ]
     },
     "execution_count": 8,
     "metadata": {},
     "output_type": "execute_result"
    }
   ],
   "source": [
    "usage()"
   ]
  },
  {
   "cell_type": "markdown",
   "metadata": {},
   "source": [
    "### Sanity check of the input shapes. They are n_events x n_variables"
   ]
  },
  {
   "cell_type": "code",
   "execution_count": 11,
   "metadata": {},
   "outputs": [
    {
     "data": {
      "text/plain": [
       "(1720960, 32)"
      ]
     },
     "execution_count": 11,
     "metadata": {},
     "output_type": "execute_result"
    }
   ],
   "source": [
    "x_test.shape\n"
   ]
  },
  {
   "cell_type": "code",
   "execution_count": 12,
   "metadata": {},
   "outputs": [
    {
     "data": {
      "text/plain": [
       "(1720960, 32)"
      ]
     },
     "execution_count": 12,
     "metadata": {},
     "output_type": "execute_result"
    }
   ],
   "source": [
    "x_val.shape"
   ]
  },
  {
   "cell_type": "code",
   "execution_count": null,
   "metadata": {},
   "outputs": [],
   "source": []
  },
  {
   "cell_type": "code",
   "execution_count": 13,
   "metadata": {},
   "outputs": [
    {
     "data": {
      "text/plain": [
       "(1720960, 1)"
      ]
     },
     "execution_count": 13,
     "metadata": {},
     "output_type": "execute_result"
    }
   ],
   "source": [
    "y_val.shape"
   ]
  },
  {
   "cell_type": "code",
   "execution_count": 6,
   "metadata": {},
   "outputs": [
    {
     "data": {
      "text/plain": [
       "(5162880, 1)"
      ]
     },
     "execution_count": 6,
     "metadata": {},
     "output_type": "execute_result"
    }
   ],
   "source": [
    "y_train.shape"
   ]
  },
  {
   "cell_type": "code",
   "execution_count": null,
   "metadata": {},
   "outputs": [],
   "source": []
  },
  {
   "cell_type": "markdown",
   "metadata": {},
   "source": [
    "### Keras imports necessary for ML training."
   ]
  },
  {
   "cell_type": "code",
   "execution_count": 5,
   "metadata": {},
   "outputs": [
    {
     "name": "stderr",
     "output_type": "stream",
     "text": [
      "Using TensorFlow backend.\n"
     ]
    }
   ],
   "source": [
    "from keras.layers import Activation\n",
    "from keras.layers import Dropout, Flatten\n",
    "from keras import Sequential\n",
    "from keras.layers.normalization import BatchNormalization\n",
    "from keras.layers import Dense\n"
   ]
  },
  {
   "cell_type": "code",
   "execution_count": 6,
   "metadata": {},
   "outputs": [],
   "source": [
    "from IPython.display import SVG\n",
    "from keras import optimizers\n",
    "\n",
    "from keras.utils.vis_utils import model_to_dot\n",
    "from keras.layers import LeakyReLU \n",
    "from keras.utils.vis_utils import plot_model\n",
    "\n",
    "from keras import backend as K"
   ]
  },
  {
   "cell_type": "code",
   "execution_count": 7,
   "metadata": {},
   "outputs": [
    {
     "name": "stderr",
     "output_type": "stream",
     "text": [
      "/cvmfs/sft.cern.ch/lcg/views/LCG_96/x86_64-centos7-gcc8-opt/lib/python2.7/site-packages/keras/callbacks.py:1065: UserWarning: `epsilon` argument is deprecated and will be removed, use `min_delta` instead.\n",
      "  warnings.warn('`epsilon` argument is deprecated and '\n"
     ]
    }
   ],
   "source": [
    "from keras.callbacks import EarlyStopping, ModelCheckpoint, ReduceLROnPlateau\n",
    "\n",
    "# The 'patience' parameter here, explained a bit later in this cell, has impact on the peak position of the y_pred/y_test.\n",
    "# I found that 2 leads to the target ratio equal to 1.000x, but one should try higher numbers 2-10. \n",
    "\n",
    "earlyStopping = EarlyStopping(monitor='val_loss', mode='min', verbose=1, patience=2)\n",
    "\n",
    "# The two lines below are not used in THIS model, but are quite handy when improving the model. \n",
    "# This line allows to save the best model out of all, when training for many epochs.\n",
    "mcp_save = ModelCheckpoint(filepath='weights.{epoch:02d}-{val_loss:.2f}.hdf5', save_best_only=True, monitor='val_loss', mode='min')\n",
    "\n",
    "# This line makes possible to reduce the learning rate and, thus, \n",
    "# helps to 'approach' the global minimum of the loss fnc, w/o overjumping and missing it.  \n",
    "reduce_lr_loss = ReduceLROnPlateau(monitor='val_loss', factor=0.1, patience=2, verbose=1, epsilon=1e-4, mode='min')\n",
    "\n",
    "# One can play with 'patience' parameter and see how it affects convergence to the global minimum. \n",
    "# Here, the patience parameter controls 'for how many epochs' we are okay to have a bad validation loss before deciding \n",
    "# to reduce the learning rate (to improve the validation loss).\n"
   ]
  },
  {
   "cell_type": "code",
   "execution_count": 10,
   "metadata": {},
   "outputs": [],
   "source": []
  },
  {
   "cell_type": "markdown",
   "metadata": {},
   "source": [
    "### Define custom loss functions. Huber (for estimate), quantiles (for resolution), and a mix (since we will have 3 outputs in the final DNN layer). "
   ]
  },
  {
   "cell_type": "code",
   "execution_count": 8,
   "metadata": {},
   "outputs": [],
   "source": [
    "#def root_mean_squared_error(y_true, y_pred):\n",
    " #   return K.sqrt(K.mean(K.square(y_pred - y_true))) \n",
    "\n",
    "class HuberLoss(object):\n",
    "    \n",
    "    def __init__(self,delta=1.):\n",
    "        self.delta = delta\n",
    "        self.n_params = 1\n",
    "        self.__name__ = 'HuberLoss'\n",
    "        \n",
    "    def __call__(self,y_true,y_pred):\n",
    "        z = K.abs(y_true[:,0] - y_pred[:,0])\n",
    "        mask = K.cast(K.less(z,self.delta),K.floatx())\n",
    "        return K.mean( 0.5*mask*K.square(z) + (1.-mask)*(self.delta*z - 0.5*self.delta**2) )\n",
    "\n",
    "# ---------------------------------------------------------------------------------------------------\n",
    "class QuantileLoss(object):\n",
    "    def __init__(self,taus=[0.5,0.25,0.75],weights=[1.,1.2,0.9]):\n",
    "        self.taus = np.array(taus).reshape(1,-1)\n",
    "        self.weights = np.array(weights).reshape(1,-1)\n",
    "        self.n_params = len(taus)\n",
    "        self.__name__ = 'QuantileLoss'\n",
    "        \n",
    "    def __call__(self,y_true,y_pred):\n",
    "        e = y_true - y_pred\n",
    "        print(e.shape)\n",
    "        return K.mean( self.weights*( self.taus*e + K.clip( -e, K.epsilon(), np.inf ) ) )\n",
    "\n",
    "# ---------------------------------------------------------------------------------------------------\n",
    "class HybridLoss(object):\n",
    "\n",
    "    def __init__(self,delta=1.,taus=[0.25,0.75],weights=[1.]):\n",
    "        self.__name__ = 'HybridLoss'\n",
    "        self.huber = HuberLoss(delta)\n",
    "        self.quantiles = QuantileLoss(taus,weights)\n",
    "        self.n_params = self.huber.n_params + self.quantiles.n_params\n",
    "        \n",
    "    def __call__(self,y_true,y_pred):\n",
    "        return self.huber(y_true,y_pred) + self.quantiles(y_true,y_pred[:,1:])\n",
    "   "
   ]
  },
  {
   "cell_type": "markdown",
   "metadata": {},
   "source": [
    "### Define the final loss object."
   ]
  },
  {
   "cell_type": "code",
   "execution_count": 9,
   "metadata": {},
   "outputs": [],
   "source": [
    "quantiles_and_Huber_Loss = HybridLoss()"
   ]
  },
  {
   "cell_type": "markdown",
   "metadata": {},
   "source": [
    "### Define the DNN model. We follow the 'Sequential' approach (one can use the 'functional' one, but it does not affect results)."
   ]
  },
  {
   "cell_type": "code",
   "execution_count": 10,
   "metadata": {},
   "outputs": [],
   "source": [
    "# Very simple DNN with 4 layers. One should study it playing with:\n",
    "# - Number of layers\n",
    "# - Number of neurons in the layer\n",
    "# See DL book for rule of thumb ideas.\n",
    "\n",
    "# We use BatchNormalization. This subtracts mean and scales by std. \n",
    "# Also, it helps as a regularization to prevent overfitting, which is almost ALWAYS the case with DNN.\n",
    "\n",
    "# We use Dropout to further prevent overfitting. \n",
    "# In general, the deeper the network is, the higher should be Dropout value: 0.2-0.3 and even up to 0.5 at times.\n",
    "# Ass an activation function, we use 'LeakyReLU', normally it performs well, one can try other options. \n",
    "# For the output we use 'relu', I found it gives the peak closer to 1. \n",
    "\n",
    "# Adam optimiser is one of the optimisers that works well out of the box and we use default parameters.\n",
    "\n",
    "# As a metrics, accuracy is not that appropriate here, so we use mean squared and mean absolute errors, 'mse' and 'mae'. \n",
    "# One can also try to use r2_score defined below:\n",
    "# def r2_score0(y_true,y_pred):\n",
    "#    return 1. - K.sum( K.square(y_true[:,0] - y_pred[:,0]) ) / K.sum( K.square(y_true[:,0] - K.mean(y_true[:,0]) ) )\n",
    "\n",
    "# The 'train_model' function parameters can be easily customised to accept different set of arguments: \n",
    "# for number of layers, number of neurons, types of activations, dropout values, type of optimiser, etc etc\n",
    "\n",
    "def train_model(add5thLayer=None, add6thLayer=None):\n",
    "    model = Sequential()\n",
    "    #model.add(Flatten())\n",
    "    #model.add(BatchNormalization())\n",
    "\n",
    "    #1st layer\n",
    "    model.add(Dense(1024,input_dim=x_train.shape[1]))\n",
    "    model.add(BatchNormalization())\n",
    "    model.add(Dropout(0.1))\n",
    "    model.add(LeakyReLU(alpha=0.02))\n",
    "\n",
    "    #2nd layer\n",
    "    model.add(Dense(512))\n",
    "    model.add(BatchNormalization())\n",
    "    model.add(Dropout(0.1))\n",
    "    model.add(LeakyReLU(alpha=0.02))\n",
    "\n",
    "    #3rd layer\n",
    "    model.add(Dense(256))\n",
    "    model.add(BatchNormalization())\n",
    "    model.add(Dropout(0.1))\n",
    "    model.add(LeakyReLU(alpha=0.02))\n",
    "\n",
    "    #4th layer\n",
    "    model.add(Dense(128))\n",
    "    model.add(BatchNormalization())\n",
    "    model.add(Dropout(0.1))\n",
    "    model.add(LeakyReLU(alpha=0.02))\n",
    "\n",
    "    if False:\n",
    "        #5th layer\n",
    "        model.add(Dense(64))\n",
    "        model.add(BatchNormalization())\n",
    "        model.add(Dropout(0.1))\n",
    "        model.add(LeakyReLU(alpha=0.02))\n",
    "\n",
    "\n",
    "        #6th layer\n",
    "        model.add(Dense(128))\n",
    "        model.add(BatchNormalization())\n",
    "        model.add(Dropout(0.1))\n",
    "        model.add(LeakyReLU(alpha=0.02))\n",
    "\n",
    "    #output layer\n",
    "    #model.add(BatchNormalization())\n",
    "    model.add(Dense(3))\n",
    "    model.add(Activation('relu')) \n",
    "    \n",
    "    model.compile( loss=quantiles_and_Huber_Loss, metrics=['mse', 'mae'],\n",
    "                 optimizer=optimizers.Adam(lr=0.001, beta_1=0.9, beta_2=0.999, epsilon=None, decay=0.0, amsgrad=False)\n",
    "                 )\n",
    "    return model"
   ]
  },
  {
   "cell_type": "markdown",
   "metadata": {},
   "source": [
    "### Create the 'model' object. It will issue some warnings, nevermind. "
   ]
  },
  {
   "cell_type": "code",
   "execution_count": 11,
   "metadata": {},
   "outputs": [
    {
     "name": "stderr",
     "output_type": "stream",
     "text": [
      "WARNING: Logging before flag parsing goes to stderr.\n",
      "W0815 00:57:41.203895 139838305527616 deprecation_wrapper.py:119] From /cvmfs/sft.cern.ch/lcg/views/LCG_96/x86_64-centos7-gcc8-opt/lib/python2.7/site-packages/keras/backend/tensorflow_backend.py:74: The name tf.get_default_graph is deprecated. Please use tf.compat.v1.get_default_graph instead.\n",
      "\n",
      "W0815 00:57:41.231460 139838305527616 deprecation_wrapper.py:119] From /cvmfs/sft.cern.ch/lcg/views/LCG_96/x86_64-centos7-gcc8-opt/lib/python2.7/site-packages/keras/backend/tensorflow_backend.py:517: The name tf.placeholder is deprecated. Please use tf.compat.v1.placeholder instead.\n",
      "\n",
      "W0815 00:57:41.238212 139838305527616 deprecation_wrapper.py:119] From /cvmfs/sft.cern.ch/lcg/views/LCG_96/x86_64-centos7-gcc8-opt/lib/python2.7/site-packages/keras/backend/tensorflow_backend.py:4138: The name tf.random_uniform is deprecated. Please use tf.random.uniform instead.\n",
      "\n",
      "W0815 00:57:41.426547 139838305527616 deprecation_wrapper.py:119] From /cvmfs/sft.cern.ch/lcg/views/LCG_96/x86_64-centos7-gcc8-opt/lib/python2.7/site-packages/keras/backend/tensorflow_backend.py:133: The name tf.placeholder_with_default is deprecated. Please use tf.compat.v1.placeholder_with_default instead.\n",
      "\n",
      "W0815 00:57:41.618102 139838305527616 deprecation.py:506] From /cvmfs/sft.cern.ch/lcg/views/LCG_96/x86_64-centos7-gcc8-opt/lib/python2.7/site-packages/keras/backend/tensorflow_backend.py:3445: calling dropout (from tensorflow.python.ops.nn_ops) with keep_prob is deprecated and will be removed in a future version.\n",
      "Instructions for updating:\n",
      "Please use `rate` instead of `keep_prob`. Rate should be set to `rate = 1 - keep_prob`.\n",
      "W0815 00:57:42.187871 139838305527616 deprecation_wrapper.py:119] From /cvmfs/sft.cern.ch/lcg/views/LCG_96/x86_64-centos7-gcc8-opt/lib/python2.7/site-packages/keras/optimizers.py:790: The name tf.train.Optimizer is deprecated. Please use tf.compat.v1.train.Optimizer instead.\n",
      "\n"
     ]
    },
    {
     "name": "stdout",
     "output_type": "stream",
     "text": [
      "(?, 2)\n"
     ]
    }
   ],
   "source": [
    "model = train_model()\n"
   ]
  },
  {
   "cell_type": "code",
   "execution_count": 17,
   "metadata": {},
   "outputs": [
    {
     "data": {
      "text/plain": [
       "1527.51171875"
      ]
     },
     "execution_count": 17,
     "metadata": {},
     "output_type": "execute_result"
    }
   ],
   "source": [
    "usage()"
   ]
  },
  {
   "cell_type": "markdown",
   "metadata": {},
   "source": [
    "### Below let's plot the model to eps format, to screen, and to png."
   ]
  },
  {
   "cell_type": "code",
   "execution_count": 12,
   "metadata": {},
   "outputs": [],
   "source": [
    "plot_model(model, to_file='model_3outputs_relu_64batch_13aug2019.eps', show_shapes=True, show_layer_names=True)\n",
    "#https://medium.com/@kapilvarshney/how-to-plot-the-model-training-in-keras-using-custom-callback-function-and-using-tensorboard-41e4ce3cb401\n"
   ]
  },
  {
   "cell_type": "code",
   "execution_count": 13,
   "metadata": {},
   "outputs": [
    {
     "data": {
      "image/svg+xml": [
       "<svg height=\"1359pt\" viewBox=\"0.00 0.00 273.99 1359.00\" width=\"274pt\" xmlns=\"http://www.w3.org/2000/svg\" xmlns:xlink=\"http://www.w3.org/1999/xlink\">\n",
       "<g class=\"graph\" id=\"graph0\" transform=\"scale(1 1) rotate(0) translate(4 1355)\">\n",
       "<title>G</title>\n",
       "<polygon fill=\"#ffffff\" points=\"-4,4 -4,-1355 269.9882,-1355 269.9882,4 -4,4\" stroke=\"transparent\"/>\n",
       "<!-- 139835298467728 -->\n",
       "<g class=\"node\" id=\"node1\">\n",
       "<title>139835298467728</title>\n",
       "<polygon fill=\"none\" points=\"80.8717,-1241.5 80.8717,-1277.5 185.1165,-1277.5 185.1165,-1241.5 80.8717,-1241.5\" stroke=\"#000000\"/>\n",
       "<text fill=\"#000000\" font-family=\"Times,serif\" font-size=\"14.00\" text-anchor=\"middle\" x=\"132.9941\" y=\"-1255.3\">dense_1: Dense</text>\n",
       "</g>\n",
       "<!-- 139835298720464 -->\n",
       "<g class=\"node\" id=\"node2\">\n",
       "<title>139835298720464</title>\n",
       "<polygon fill=\"none\" points=\"0,-1168.5 0,-1204.5 265.9882,-1204.5 265.9882,-1168.5 0,-1168.5\" stroke=\"#000000\"/>\n",
       "<text fill=\"#000000\" font-family=\"Times,serif\" font-size=\"14.00\" text-anchor=\"middle\" x=\"132.9941\" y=\"-1182.3\">batch_normalization_1: BatchNormalization</text>\n",
       "</g>\n",
       "<!-- 139835298467728&#45;&gt;139835298720464 -->\n",
       "<g class=\"edge\" id=\"edge2\">\n",
       "<title>139835298467728-&gt;139835298720464</title>\n",
       "<path d=\"M132.9941,-1241.4551C132.9941,-1233.3828 132.9941,-1223.6764 132.9941,-1214.6817\" fill=\"none\" stroke=\"#000000\"/>\n",
       "<polygon fill=\"#000000\" points=\"136.4942,-1214.5903 132.9941,-1204.5904 129.4942,-1214.5904 136.4942,-1214.5903\" stroke=\"#000000\"/>\n",
       "</g>\n",
       "<!-- 139835298609168 -->\n",
       "<g class=\"node\" id=\"node3\">\n",
       "<title>139835298609168</title>\n",
       "<polygon fill=\"none\" points=\"69.1943,-1095.5 69.1943,-1131.5 196.7939,-1131.5 196.7939,-1095.5 69.1943,-1095.5\" stroke=\"#000000\"/>\n",
       "<text fill=\"#000000\" font-family=\"Times,serif\" font-size=\"14.00\" text-anchor=\"middle\" x=\"132.9941\" y=\"-1109.3\">dropout_1: Dropout</text>\n",
       "</g>\n",
       "<!-- 139835298720464&#45;&gt;139835298609168 -->\n",
       "<g class=\"edge\" id=\"edge3\">\n",
       "<title>139835298720464-&gt;139835298609168</title>\n",
       "<path d=\"M132.9941,-1168.4551C132.9941,-1160.3828 132.9941,-1150.6764 132.9941,-1141.6817\" fill=\"none\" stroke=\"#000000\"/>\n",
       "<polygon fill=\"#000000\" points=\"136.4942,-1141.5903 132.9941,-1131.5904 129.4942,-1141.5904 136.4942,-1141.5903\" stroke=\"#000000\"/>\n",
       "</g>\n",
       "<!-- 139835298721104 -->\n",
       "<g class=\"node\" id=\"node4\">\n",
       "<title>139835298721104</title>\n",
       "<polygon fill=\"none\" points=\"46.6599,-1022.5 46.6599,-1058.5 219.3283,-1058.5 219.3283,-1022.5 46.6599,-1022.5\" stroke=\"#000000\"/>\n",
       "<text fill=\"#000000\" font-family=\"Times,serif\" font-size=\"14.00\" text-anchor=\"middle\" x=\"132.9941\" y=\"-1036.3\">leaky_re_lu_1: LeakyReLU</text>\n",
       "</g>\n",
       "<!-- 139835298609168&#45;&gt;139835298721104 -->\n",
       "<g class=\"edge\" id=\"edge4\">\n",
       "<title>139835298609168-&gt;139835298721104</title>\n",
       "<path d=\"M132.9941,-1095.4551C132.9941,-1087.3828 132.9941,-1077.6764 132.9941,-1068.6817\" fill=\"none\" stroke=\"#000000\"/>\n",
       "<polygon fill=\"#000000\" points=\"136.4942,-1068.5903 132.9941,-1058.5904 129.4942,-1068.5904 136.4942,-1068.5903\" stroke=\"#000000\"/>\n",
       "</g>\n",
       "<!-- 139835298358224 -->\n",
       "<g class=\"node\" id=\"node5\">\n",
       "<title>139835298358224</title>\n",
       "<polygon fill=\"none\" points=\"80.8717,-949.5 80.8717,-985.5 185.1165,-985.5 185.1165,-949.5 80.8717,-949.5\" stroke=\"#000000\"/>\n",
       "<text fill=\"#000000\" font-family=\"Times,serif\" font-size=\"14.00\" text-anchor=\"middle\" x=\"132.9941\" y=\"-963.3\">dense_2: Dense</text>\n",
       "</g>\n",
       "<!-- 139835298721104&#45;&gt;139835298358224 -->\n",
       "<g class=\"edge\" id=\"edge5\">\n",
       "<title>139835298721104-&gt;139835298358224</title>\n",
       "<path d=\"M132.9941,-1022.4551C132.9941,-1014.3828 132.9941,-1004.6764 132.9941,-995.6817\" fill=\"none\" stroke=\"#000000\"/>\n",
       "<polygon fill=\"#000000\" points=\"136.4942,-995.5903 132.9941,-985.5904 129.4942,-995.5904 136.4942,-995.5903\" stroke=\"#000000\"/>\n",
       "</g>\n",
       "<!-- 139835298022416 -->\n",
       "<g class=\"node\" id=\"node6\">\n",
       "<title>139835298022416</title>\n",
       "<polygon fill=\"none\" points=\"0,-876.5 0,-912.5 265.9882,-912.5 265.9882,-876.5 0,-876.5\" stroke=\"#000000\"/>\n",
       "<text fill=\"#000000\" font-family=\"Times,serif\" font-size=\"14.00\" text-anchor=\"middle\" x=\"132.9941\" y=\"-890.3\">batch_normalization_2: BatchNormalization</text>\n",
       "</g>\n",
       "<!-- 139835298358224&#45;&gt;139835298022416 -->\n",
       "<g class=\"edge\" id=\"edge6\">\n",
       "<title>139835298358224-&gt;139835298022416</title>\n",
       "<path d=\"M132.9941,-949.4551C132.9941,-941.3828 132.9941,-931.6764 132.9941,-922.6817\" fill=\"none\" stroke=\"#000000\"/>\n",
       "<polygon fill=\"#000000\" points=\"136.4942,-922.5903 132.9941,-912.5904 129.4942,-922.5904 136.4942,-922.5903\" stroke=\"#000000\"/>\n",
       "</g>\n",
       "<!-- 139837967243216 -->\n",
       "<g class=\"node\" id=\"node7\">\n",
       "<title>139837967243216</title>\n",
       "<polygon fill=\"none\" points=\"69.1943,-803.5 69.1943,-839.5 196.7939,-839.5 196.7939,-803.5 69.1943,-803.5\" stroke=\"#000000\"/>\n",
       "<text fill=\"#000000\" font-family=\"Times,serif\" font-size=\"14.00\" text-anchor=\"middle\" x=\"132.9941\" y=\"-817.3\">dropout_2: Dropout</text>\n",
       "</g>\n",
       "<!-- 139835298022416&#45;&gt;139837967243216 -->\n",
       "<g class=\"edge\" id=\"edge7\">\n",
       "<title>139835298022416-&gt;139837967243216</title>\n",
       "<path d=\"M132.9941,-876.4551C132.9941,-868.3828 132.9941,-858.6764 132.9941,-849.6817\" fill=\"none\" stroke=\"#000000\"/>\n",
       "<polygon fill=\"#000000\" points=\"136.4942,-849.5903 132.9941,-839.5904 129.4942,-849.5904 136.4942,-849.5903\" stroke=\"#000000\"/>\n",
       "</g>\n",
       "<!-- 139835297540944 -->\n",
       "<g class=\"node\" id=\"node8\">\n",
       "<title>139835297540944</title>\n",
       "<polygon fill=\"none\" points=\"46.6599,-730.5 46.6599,-766.5 219.3283,-766.5 219.3283,-730.5 46.6599,-730.5\" stroke=\"#000000\"/>\n",
       "<text fill=\"#000000\" font-family=\"Times,serif\" font-size=\"14.00\" text-anchor=\"middle\" x=\"132.9941\" y=\"-744.3\">leaky_re_lu_2: LeakyReLU</text>\n",
       "</g>\n",
       "<!-- 139837967243216&#45;&gt;139835297540944 -->\n",
       "<g class=\"edge\" id=\"edge8\">\n",
       "<title>139837967243216-&gt;139835297540944</title>\n",
       "<path d=\"M132.9941,-803.4551C132.9941,-795.3828 132.9941,-785.6764 132.9941,-776.6817\" fill=\"none\" stroke=\"#000000\"/>\n",
       "<polygon fill=\"#000000\" points=\"136.4942,-776.5903 132.9941,-766.5904 129.4942,-776.5904 136.4942,-776.5903\" stroke=\"#000000\"/>\n",
       "</g>\n",
       "<!-- 139835297405712 -->\n",
       "<g class=\"node\" id=\"node9\">\n",
       "<title>139835297405712</title>\n",
       "<polygon fill=\"none\" points=\"80.8717,-657.5 80.8717,-693.5 185.1165,-693.5 185.1165,-657.5 80.8717,-657.5\" stroke=\"#000000\"/>\n",
       "<text fill=\"#000000\" font-family=\"Times,serif\" font-size=\"14.00\" text-anchor=\"middle\" x=\"132.9941\" y=\"-671.3\">dense_3: Dense</text>\n",
       "</g>\n",
       "<!-- 139835297540944&#45;&gt;139835297405712 -->\n",
       "<g class=\"edge\" id=\"edge9\">\n",
       "<title>139835297540944-&gt;139835297405712</title>\n",
       "<path d=\"M132.9941,-730.4551C132.9941,-722.3828 132.9941,-712.6764 132.9941,-703.6817\" fill=\"none\" stroke=\"#000000\"/>\n",
       "<polygon fill=\"#000000\" points=\"136.4942,-703.5903 132.9941,-693.5904 129.4942,-703.5904 136.4942,-703.5903\" stroke=\"#000000\"/>\n",
       "</g>\n",
       "<!-- 139835297077648 -->\n",
       "<g class=\"node\" id=\"node10\">\n",
       "<title>139835297077648</title>\n",
       "<polygon fill=\"none\" points=\"0,-584.5 0,-620.5 265.9882,-620.5 265.9882,-584.5 0,-584.5\" stroke=\"#000000\"/>\n",
       "<text fill=\"#000000\" font-family=\"Times,serif\" font-size=\"14.00\" text-anchor=\"middle\" x=\"132.9941\" y=\"-598.3\">batch_normalization_3: BatchNormalization</text>\n",
       "</g>\n",
       "<!-- 139835297405712&#45;&gt;139835297077648 -->\n",
       "<g class=\"edge\" id=\"edge10\">\n",
       "<title>139835297405712-&gt;139835297077648</title>\n",
       "<path d=\"M132.9941,-657.4551C132.9941,-649.3828 132.9941,-639.6764 132.9941,-630.6817\" fill=\"none\" stroke=\"#000000\"/>\n",
       "<polygon fill=\"#000000\" points=\"136.4942,-630.5903 132.9941,-620.5904 129.4942,-630.5904 136.4942,-630.5903\" stroke=\"#000000\"/>\n",
       "</g>\n",
       "<!-- 139835296258768 -->\n",
       "<g class=\"node\" id=\"node11\">\n",
       "<title>139835296258768</title>\n",
       "<polygon fill=\"none\" points=\"69.1943,-511.5 69.1943,-547.5 196.7939,-547.5 196.7939,-511.5 69.1943,-511.5\" stroke=\"#000000\"/>\n",
       "<text fill=\"#000000\" font-family=\"Times,serif\" font-size=\"14.00\" text-anchor=\"middle\" x=\"132.9941\" y=\"-525.3\">dropout_3: Dropout</text>\n",
       "</g>\n",
       "<!-- 139835297077648&#45;&gt;139835296258768 -->\n",
       "<g class=\"edge\" id=\"edge11\">\n",
       "<title>139835297077648-&gt;139835296258768</title>\n",
       "<path d=\"M132.9941,-584.4551C132.9941,-576.3828 132.9941,-566.6764 132.9941,-557.6817\" fill=\"none\" stroke=\"#000000\"/>\n",
       "<polygon fill=\"#000000\" points=\"136.4942,-557.5903 132.9941,-547.5904 129.4942,-557.5904 136.4942,-557.5903\" stroke=\"#000000\"/>\n",
       "</g>\n",
       "<!-- 139835296962384 -->\n",
       "<g class=\"node\" id=\"node12\">\n",
       "<title>139835296962384</title>\n",
       "<polygon fill=\"none\" points=\"46.6599,-438.5 46.6599,-474.5 219.3283,-474.5 219.3283,-438.5 46.6599,-438.5\" stroke=\"#000000\"/>\n",
       "<text fill=\"#000000\" font-family=\"Times,serif\" font-size=\"14.00\" text-anchor=\"middle\" x=\"132.9941\" y=\"-452.3\">leaky_re_lu_3: LeakyReLU</text>\n",
       "</g>\n",
       "<!-- 139835296258768&#45;&gt;139835296962384 -->\n",
       "<g class=\"edge\" id=\"edge12\">\n",
       "<title>139835296258768-&gt;139835296962384</title>\n",
       "<path d=\"M132.9941,-511.4551C132.9941,-503.3828 132.9941,-493.6764 132.9941,-484.6817\" fill=\"none\" stroke=\"#000000\"/>\n",
       "<polygon fill=\"#000000\" points=\"136.4942,-484.5903 132.9941,-474.5904 129.4942,-484.5904 136.4942,-484.5903\" stroke=\"#000000\"/>\n",
       "</g>\n",
       "<!-- 139835295845712 -->\n",
       "<g class=\"node\" id=\"node13\">\n",
       "<title>139835295845712</title>\n",
       "<polygon fill=\"none\" points=\"80.8717,-365.5 80.8717,-401.5 185.1165,-401.5 185.1165,-365.5 80.8717,-365.5\" stroke=\"#000000\"/>\n",
       "<text fill=\"#000000\" font-family=\"Times,serif\" font-size=\"14.00\" text-anchor=\"middle\" x=\"132.9941\" y=\"-379.3\">dense_4: Dense</text>\n",
       "</g>\n",
       "<!-- 139835296962384&#45;&gt;139835295845712 -->\n",
       "<g class=\"edge\" id=\"edge13\">\n",
       "<title>139835296962384-&gt;139835295845712</title>\n",
       "<path d=\"M132.9941,-438.4551C132.9941,-430.3828 132.9941,-420.6764 132.9941,-411.6817\" fill=\"none\" stroke=\"#000000\"/>\n",
       "<polygon fill=\"#000000\" points=\"136.4942,-411.5903 132.9941,-401.5904 129.4942,-411.5904 136.4942,-411.5903\" stroke=\"#000000\"/>\n",
       "</g>\n",
       "<!-- 139835295846352 -->\n",
       "<g class=\"node\" id=\"node14\">\n",
       "<title>139835295846352</title>\n",
       "<polygon fill=\"none\" points=\"0,-292.5 0,-328.5 265.9882,-328.5 265.9882,-292.5 0,-292.5\" stroke=\"#000000\"/>\n",
       "<text fill=\"#000000\" font-family=\"Times,serif\" font-size=\"14.00\" text-anchor=\"middle\" x=\"132.9941\" y=\"-306.3\">batch_normalization_4: BatchNormalization</text>\n",
       "</g>\n",
       "<!-- 139835295845712&#45;&gt;139835295846352 -->\n",
       "<g class=\"edge\" id=\"edge14\">\n",
       "<title>139835295845712-&gt;139835295846352</title>\n",
       "<path d=\"M132.9941,-365.4551C132.9941,-357.3828 132.9941,-347.6764 132.9941,-338.6817\" fill=\"none\" stroke=\"#000000\"/>\n",
       "<polygon fill=\"#000000\" points=\"136.4942,-338.5903 132.9941,-328.5904 129.4942,-338.5904 136.4942,-338.5903\" stroke=\"#000000\"/>\n",
       "</g>\n",
       "<!-- 139835295607120 -->\n",
       "<g class=\"node\" id=\"node15\">\n",
       "<title>139835295607120</title>\n",
       "<polygon fill=\"none\" points=\"69.1943,-219.5 69.1943,-255.5 196.7939,-255.5 196.7939,-219.5 69.1943,-219.5\" stroke=\"#000000\"/>\n",
       "<text fill=\"#000000\" font-family=\"Times,serif\" font-size=\"14.00\" text-anchor=\"middle\" x=\"132.9941\" y=\"-233.3\">dropout_4: Dropout</text>\n",
       "</g>\n",
       "<!-- 139835295846352&#45;&gt;139835295607120 -->\n",
       "<g class=\"edge\" id=\"edge15\">\n",
       "<title>139835295846352-&gt;139835295607120</title>\n",
       "<path d=\"M132.9941,-292.4551C132.9941,-284.3828 132.9941,-274.6764 132.9941,-265.6817\" fill=\"none\" stroke=\"#000000\"/>\n",
       "<polygon fill=\"#000000\" points=\"136.4942,-265.5903 132.9941,-255.5904 129.4942,-265.5904 136.4942,-265.5903\" stroke=\"#000000\"/>\n",
       "</g>\n",
       "<!-- 139835296720464 -->\n",
       "<g class=\"node\" id=\"node16\">\n",
       "<title>139835296720464</title>\n",
       "<polygon fill=\"none\" points=\"46.6599,-146.5 46.6599,-182.5 219.3283,-182.5 219.3283,-146.5 46.6599,-146.5\" stroke=\"#000000\"/>\n",
       "<text fill=\"#000000\" font-family=\"Times,serif\" font-size=\"14.00\" text-anchor=\"middle\" x=\"132.9941\" y=\"-160.3\">leaky_re_lu_4: LeakyReLU</text>\n",
       "</g>\n",
       "<!-- 139835295607120&#45;&gt;139835296720464 -->\n",
       "<g class=\"edge\" id=\"edge16\">\n",
       "<title>139835295607120-&gt;139835296720464</title>\n",
       "<path d=\"M132.9941,-219.4551C132.9941,-211.3828 132.9941,-201.6764 132.9941,-192.6817\" fill=\"none\" stroke=\"#000000\"/>\n",
       "<polygon fill=\"#000000\" points=\"136.4942,-192.5903 132.9941,-182.5904 129.4942,-192.5904 136.4942,-192.5903\" stroke=\"#000000\"/>\n",
       "</g>\n",
       "<!-- 139835294816336 -->\n",
       "<g class=\"node\" id=\"node17\">\n",
       "<title>139835294816336</title>\n",
       "<polygon fill=\"none\" points=\"80.8717,-73.5 80.8717,-109.5 185.1165,-109.5 185.1165,-73.5 80.8717,-73.5\" stroke=\"#000000\"/>\n",
       "<text fill=\"#000000\" font-family=\"Times,serif\" font-size=\"14.00\" text-anchor=\"middle\" x=\"132.9941\" y=\"-87.3\">dense_5: Dense</text>\n",
       "</g>\n",
       "<!-- 139835296720464&#45;&gt;139835294816336 -->\n",
       "<g class=\"edge\" id=\"edge17\">\n",
       "<title>139835296720464-&gt;139835294816336</title>\n",
       "<path d=\"M132.9941,-146.4551C132.9941,-138.3828 132.9941,-128.6764 132.9941,-119.6817\" fill=\"none\" stroke=\"#000000\"/>\n",
       "<polygon fill=\"#000000\" points=\"136.4942,-119.5903 132.9941,-109.5904 129.4942,-119.5904 136.4942,-119.5903\" stroke=\"#000000\"/>\n",
       "</g>\n",
       "<!-- 139835295972240 -->\n",
       "<g class=\"node\" id=\"node18\">\n",
       "<title>139835295972240</title>\n",
       "<polygon fill=\"none\" points=\"57.1466,-.5 57.1466,-36.5 208.8416,-36.5 208.8416,-.5 57.1466,-.5\" stroke=\"#000000\"/>\n",
       "<text fill=\"#000000\" font-family=\"Times,serif\" font-size=\"14.00\" text-anchor=\"middle\" x=\"132.9941\" y=\"-14.3\">activation_1: Activation</text>\n",
       "</g>\n",
       "<!-- 139835294816336&#45;&gt;139835295972240 -->\n",
       "<g class=\"edge\" id=\"edge18\">\n",
       "<title>139835294816336-&gt;139835295972240</title>\n",
       "<path d=\"M132.9941,-73.4551C132.9941,-65.3828 132.9941,-55.6764 132.9941,-46.6817\" fill=\"none\" stroke=\"#000000\"/>\n",
       "<polygon fill=\"#000000\" points=\"136.4942,-46.5903 132.9941,-36.5904 129.4942,-46.5904 136.4942,-46.5903\" stroke=\"#000000\"/>\n",
       "</g>\n",
       "<!-- 139835298719824 -->\n",
       "<g class=\"node\" id=\"node19\">\n",
       "<title>139835298719824</title>\n",
       "<polygon fill=\"none\" points=\"72.4941,-1314.5 72.4941,-1350.5 193.4941,-1350.5 193.4941,-1314.5 72.4941,-1314.5\" stroke=\"#000000\"/>\n",
       "<text fill=\"#000000\" font-family=\"Times,serif\" font-size=\"14.00\" text-anchor=\"middle\" x=\"132.9941\" y=\"-1328.3\">139835298719824</text>\n",
       "</g>\n",
       "<!-- 139835298719824&#45;&gt;139835298467728 -->\n",
       "<g class=\"edge\" id=\"edge1\">\n",
       "<title>139835298719824-&gt;139835298467728</title>\n",
       "<path d=\"M132.9941,-1314.4551C132.9941,-1306.3828 132.9941,-1296.6764 132.9941,-1287.6817\" fill=\"none\" stroke=\"#000000\"/>\n",
       "<polygon fill=\"#000000\" points=\"136.4942,-1287.5903 132.9941,-1277.5904 129.4942,-1287.5904 136.4942,-1287.5903\" stroke=\"#000000\"/>\n",
       "</g>\n",
       "</g>\n",
       "</svg>"
      ],
      "text/plain": [
       "<IPython.core.display.SVG object>"
      ]
     },
     "execution_count": 13,
     "metadata": {},
     "output_type": "execute_result"
    }
   ],
   "source": [
    "from IPython.display import SVG\n",
    "\n",
    "img = SVG(model_to_dot(model).create(prog='dot', format='svg'))\n",
    "img"
   ]
  },
  {
   "cell_type": "code",
   "execution_count": 14,
   "metadata": {},
   "outputs": [],
   "source": [
    "with open(\"model_3outputs_relu_13aug2019.png\", \"wb\") as fout:\n",
    "    fout.write(img.data)"
   ]
  },
  {
   "cell_type": "markdown",
   "metadata": {},
   "source": [
    "### Let's see the summary of our model and total number of parameters."
   ]
  },
  {
   "cell_type": "code",
   "execution_count": 15,
   "metadata": {},
   "outputs": [
    {
     "name": "stdout",
     "output_type": "stream",
     "text": [
      "_________________________________________________________________\n",
      "Layer (type)                 Output Shape              Param #   \n",
      "=================================================================\n",
      "dense_1 (Dense)              (None, 1024)              33792     \n",
      "_________________________________________________________________\n",
      "batch_normalization_1 (Batch (None, 1024)              4096      \n",
      "_________________________________________________________________\n",
      "dropout_1 (Dropout)          (None, 1024)              0         \n",
      "_________________________________________________________________\n",
      "leaky_re_lu_1 (LeakyReLU)    (None, 1024)              0         \n",
      "_________________________________________________________________\n",
      "dense_2 (Dense)              (None, 512)               524800    \n",
      "_________________________________________________________________\n",
      "batch_normalization_2 (Batch (None, 512)               2048      \n",
      "_________________________________________________________________\n",
      "dropout_2 (Dropout)          (None, 512)               0         \n",
      "_________________________________________________________________\n",
      "leaky_re_lu_2 (LeakyReLU)    (None, 512)               0         \n",
      "_________________________________________________________________\n",
      "dense_3 (Dense)              (None, 256)               131328    \n",
      "_________________________________________________________________\n",
      "batch_normalization_3 (Batch (None, 256)               1024      \n",
      "_________________________________________________________________\n",
      "dropout_3 (Dropout)          (None, 256)               0         \n",
      "_________________________________________________________________\n",
      "leaky_re_lu_3 (LeakyReLU)    (None, 256)               0         \n",
      "_________________________________________________________________\n",
      "dense_4 (Dense)              (None, 128)               32896     \n",
      "_________________________________________________________________\n",
      "batch_normalization_4 (Batch (None, 128)               512       \n",
      "_________________________________________________________________\n",
      "dropout_4 (Dropout)          (None, 128)               0         \n",
      "_________________________________________________________________\n",
      "leaky_re_lu_4 (LeakyReLU)    (None, 128)               0         \n",
      "_________________________________________________________________\n",
      "dense_5 (Dense)              (None, 3)                 387       \n",
      "_________________________________________________________________\n",
      "activation_1 (Activation)    (None, 3)                 0         \n",
      "=================================================================\n",
      "Total params: 730,883\n",
      "Trainable params: 727,043\n",
      "Non-trainable params: 3,840\n",
      "_________________________________________________________________\n"
     ]
    }
   ],
   "source": [
    "#model.build(input_shape=(None, x_train.shape[0], x_train.shape[1]))\n",
    "model.summary()"
   ]
  },
  {
   "cell_type": "markdown",
   "metadata": {},
   "source": [
    "### Finally, let's train the model. If you use ~5 Million events, it will take a total of 12-20 hours, which for 4 core SWAN notebook will translate into 3-5 hours of actual time. "
   ]
  },
  {
   "cell_type": "code",
   "execution_count": 16,
   "metadata": {},
   "outputs": [
    {
     "name": "stderr",
     "output_type": "stream",
     "text": [
      "W0815 00:58:14.036426 139838305527616 deprecation.py:323] From /cvmfs/sft.cern.ch/lcg/views/LCG_96/x86_64-centos7-gcc8-opt/lib/python2.7/site-packages/tensorflow/python/ops/math_grad.py:1250: where (from tensorflow.python.ops.array_ops) is deprecated and will be removed in a future version.\n",
      "Instructions for updating:\n",
      "Use tf.where in 2.0, which has the same broadcast rule as np.where\n",
      "W0815 00:58:15.148210 139838305527616 deprecation_wrapper.py:119] From /cvmfs/sft.cern.ch/lcg/views/LCG_96/x86_64-centos7-gcc8-opt/lib/python2.7/site-packages/keras/backend/tensorflow_backend.py:986: The name tf.assign_add is deprecated. Please use tf.compat.v1.assign_add instead.\n",
      "\n"
     ]
    },
    {
     "name": "stdout",
     "output_type": "stream",
     "text": [
      "Train on 5162880 samples, validate on 1720960 samples\n",
      "Epoch 1/30\n",
      " - 1422s - loss: 0.0616 - mean_squared_error: 1.5181 - mean_absolute_error: 0.0707 - val_loss: 0.0806 - val_mean_squared_error: 24.9374 - val_mean_absolute_error: 0.0808\n",
      "Epoch 2/30\n",
      " - 1350s - loss: 0.0527 - mean_squared_error: 1.3090 - mean_absolute_error: 0.0625 - val_loss: 0.0641 - val_mean_squared_error: 8.2214 - val_mean_absolute_error: 0.0679\n",
      "Epoch 3/30\n",
      " - 1318s - loss: 0.0496 - mean_squared_error: 1.2651 - mean_absolute_error: 0.0603 - val_loss: 0.0678 - val_mean_squared_error: 1.4529 - val_mean_absolute_error: 0.0872\n",
      "Epoch 4/30\n",
      " - 1387s - loss: 0.0482 - mean_squared_error: 1.2253 - mean_absolute_error: 0.0591 - val_loss: 0.0469 - val_mean_squared_error: 1.1266 - val_mean_absolute_error: 0.0540\n",
      "Epoch 5/30\n",
      " - 1378s - loss: 0.0474 - mean_squared_error: 1.2391 - mean_absolute_error: 0.0584 - val_loss: 0.0466 - val_mean_squared_error: 1.3516 - val_mean_absolute_error: 0.0540\n",
      "Epoch 6/30\n",
      " - 1412s - loss: 0.0468 - mean_squared_error: 1.2391 - mean_absolute_error: 0.0579 - val_loss: 0.0452 - val_mean_squared_error: 0.8088 - val_mean_absolute_error: 0.0523\n",
      "Epoch 7/30\n",
      " - 1429s - loss: 0.0460 - mean_squared_error: 1.2171 - mean_absolute_error: 0.0572 - val_loss: 0.0471 - val_mean_squared_error: 1.8128 - val_mean_absolute_error: 0.0534\n",
      "Epoch 8/30\n",
      " - 1428s - loss: 0.0454 - mean_squared_error: 1.2124 - mean_absolute_error: 0.0567 - val_loss: 0.0504 - val_mean_squared_error: 2.6702 - val_mean_absolute_error: 0.0561\n",
      "Epoch 00008: early stopping\n",
      "CPU times: user 9h 51min 44s, sys: 2h 28min 32s, total: 12h 20min 16s\n",
      "Wall time: 3h 5min 26s\n"
     ]
    }
   ],
   "source": [
    "# tried epochs=20 and batch-size=256, takes 301 seconds per epoch.\n",
    "#smaller architecture and only 64 batch takes longer: 471-491 seconds!\n",
    "\n",
    "#9 epochs if want for peak near 1?\n",
    "\n",
    "# NOTE: another extremely import parameters:\n",
    "# 1.epochs (increasing it not always helps), we also have callbacks to stop earlier\n",
    "# 2.batch_size. Affects the position of the peak! \n",
    "# It is how many events to use at a time per update of the weights of the our NN.\n",
    "# In total, weights will be updated sample_size/batch_size * epochs.\n",
    "# Higher batch size may (and may not!) be better for a resolution, \n",
    "# but lower batch size seem to be better for the main estimate.\n",
    "# A rule of thumb is 32-512, I tried up to 2048. \n",
    "# In the latter case, the peak moved quite a bit. \n",
    "\n",
    "%time results= model.fit(x_train,y_train,validation_data=(x_val,y_val),epochs=30,batch_size=64,verbose=2, callbacks=[earlyStopping])\n"
   ]
  },
  {
   "cell_type": "markdown",
   "metadata": {},
   "source": [
    "### Now, let's save the model for later use. This is the part of the EGamma project that is going to be shared with the final user - the user will load the model with its architecture and weights, will give the electron information to the model, and will get an output (estimate and resolution)."
   ]
  },
  {
   "cell_type": "code",
   "execution_count": 17,
   "metadata": {},
   "outputs": [],
   "source": [
    "from keras.models import load_model\n",
    "import h5py\n",
    "\n",
    "model.save('my_model_3outputs_relu_13aug2019.h5')  # creates a HDF5 file 'my_model.h5'\n",
    "#del model  # deletes the existing model\n",
    "\n",
    "# returns a compiled model\n",
    "# identical to the previous one\n",
    "#loaded_model = load_model('my_model.h5')\n",
    "\n",
    "#to use the loaded model\n",
    "#predicted_output = loaded_model.predict(myinput, batch_size=mybatchsize)\n"
   ]
  },
  {
   "cell_type": "markdown",
   "metadata": {},
   "source": [
    "### Let's write a function to check how well the model performed on the train and validation tests. One can also pass other metrics here, such as r2_score, etc"
   ]
  },
  {
   "cell_type": "code",
   "execution_count": 18,
   "metadata": {},
   "outputs": [],
   "source": [
    "def print_out(history):# summarize history for accuracy\n",
    "    plt.plot(history.history['mean_absolute_error'])\n",
    "    plt.plot(history.history['val_mean_absolute_error'])\n",
    "    plt.title('model mean_absolute_error')\n",
    "    plt.ylabel('accuracy')\n",
    "    plt.xlabel('epoch')\n",
    "    plt.legend(['train', 'test'], loc='upper left')\n",
    "    plt.show()\n",
    "    # summarize history for loss\n",
    "    plt.plot(history.history['loss'])\n",
    "    plt.plot(history.history['val_loss'])\n",
    "    plt.title('model loss')\n",
    "    plt.ylabel('loss')\n",
    "    plt.xlabel('epoch')\n",
    "    plt.legend(['train', 'test'], loc='upper left')\n",
    "    plt.show()"
   ]
  },
  {
   "cell_type": "code",
   "execution_count": 19,
   "metadata": {},
   "outputs": [
    {
     "data": {
      "image/png": "[encoded data removed]",
      "text/plain": [
       "<Figure size 432x288 with 1 Axes>"
      ]
     },
     "metadata": {
      "needs_background": "light"
     },
     "output_type": "display_data"
    },
    {
     "data": {
      "image/png": "[encoded data removed]",
      "text/plain": [
       "<Figure size 432x288 with 1 Axes>"
      ]
     },
     "metadata": {
      "needs_background": "light"
     },
     "output_type": "display_data"
    }
   ],
   "source": [
    "print_out(results)"
   ]
  },
  {
   "cell_type": "markdown",
   "metadata": {},
   "source": [
    "### Let's get a model prediction on the independent test data set. It can be any data set of a million of event or just a single row with 32 variables corresponding to electron information in a single event."
   ]
  },
  {
   "cell_type": "code",
   "execution_count": 20,
   "metadata": {},
   "outputs": [
    {
     "data": {
      "text/plain": [
       "array([[1.0033419 , 0.99792266, 1.0077451 ],\n",
       "       [1.0680851 , 1.0257409 , 1.0689394 ],\n",
       "       [1.0282842 , 1.0141557 , 1.0346069 ],\n",
       "       ...,\n",
       "       [1.0259305 , 1.0130988 , 1.0336787 ],\n",
       "       [1.0262883 , 1.0126741 , 1.0339134 ],\n",
       "       [1.062406  , 1.013764  , 1.0764982 ]], dtype=float32)"
      ]
     },
     "execution_count": 20,
     "metadata": {},
     "output_type": "execute_result"
    }
   ],
   "source": [
    "y_pred = model.predict(x_test)\n",
    "y_pred"
   ]
  },
  {
   "cell_type": "markdown",
   "metadata": {},
   "source": [
    "### Even though loading the model and predicting results is a matter of less than 1 minute, still, let's store the array of predicted values."
   ]
  },
  {
   "cell_type": "code",
   "execution_count": 21,
   "metadata": {},
   "outputs": [],
   "source": [
    "np.save('y_pred_3outputs_relu_13aug2019.npy', y_pred)"
   ]
  },
  {
   "cell_type": "markdown",
   "metadata": {},
   "source": [
    "### Scatter plot of input (test) vs predicted (based on test) ratios of energies"
   ]
  },
  {
   "cell_type": "code",
   "execution_count": 22,
   "metadata": {},
   "outputs": [
    {
     "data": {
      "image/png": "[encoded data removed]",
      "text/plain": [
       "<Figure size 432x288 with 1 Axes>"
      ]
     },
     "metadata": {
      "needs_background": "light"
     },
     "output_type": "display_data"
    }
   ],
   "source": [
    "fig, ax = plt.subplots()\n",
    "ax.scatter(y_test, y_pred[:,0])\n",
    "ax.plot([y_test.min(), y_test.max()], [y_test.min(), y_test.max()], 'r--', lw=4)\n",
    "ax.set_xlabel('MC test data of Emc/Emeasured')\n",
    "ax.set_ylabel('Predicted Emc/Emeasured')\n",
    "plt.show()"
   ]
  },
  {
   "cell_type": "markdown",
   "metadata": {},
   "source": [
    "### Let's plot variables of interest and compare results. We plot only the estimate. Resolution distributions are plotted in the next cell"
   ]
  },
  {
   "cell_type": "code",
   "execution_count": 23,
   "metadata": {},
   "outputs": [
    {
     "name": "stderr",
     "output_type": "stream",
     "text": [
      "/usr/local/bin/start_ipykernel.py:16: DeprecationWarning: object of type <type 'float'> cannot be safely interpreted as an integer.\n"
     ]
    },
    {
     "name": "stdout",
     "output_type": "stream",
     "text": [
      "maxbin_PoT 1.0007253626813406\n",
      "maxbin_overT 0.9961230615307654\n"
     ]
    },
    {
     "data": {
      "image/png": "[encoded data removed]",
      "text/plain": [
       "<Figure size 432x288 with 1 Axes>"
      ]
     },
     "metadata": {
      "needs_background": "light"
     },
     "output_type": "display_data"
    },
    {
     "data": {
      "text/plain": [
       "<Figure size 2160x1440 with 0 Axes>"
      ]
     },
     "metadata": {},
     "output_type": "display_data"
    }
   ],
   "source": [
    "plt.title(\"Electron Emc/Emeasured\")\n",
    "plot_name = \"results_model_3outputs_relu_15aug2019.pdf\"\n",
    "#Add extra 0 for finer binning.\n",
    "bin_size = 0.0001\n",
    "\n",
    "min_edge = 0.95; max_edge = 1.15\n",
    "bins = 20000 \n",
    "\n",
    "mean = y_test.mean()\n",
    "std = y_test.std()\n",
    "\n",
    "xleft = mean - std*1\n",
    "xright = mean + std*1\n",
    "\n",
    "#print 'Mean minus std is equal to ', xleft\n",
    "#print 'Mean plus std is equal to ', xright\n",
    "\n",
    "N = (max_edge-min_edge)/bin_size; Nplus1 = N + 1\n",
    "bin_list = np.linspace(min_edge, max_edge, Nplus1)\n",
    "bins= bin_list\n",
    "\n",
    "plt.grid(axis='y', alpha=0.75)\n",
    "plt.grid(axis='x', alpha=0.75)\n",
    "\n",
    "plt.xlim((min_edge, max_edge))  # adjust the top leaving bottom unchanged\n",
    "\n",
    "plt.hist(y_pred[:,0:1], bins, alpha=0.7, label='y_pred_0')\n",
    "#plt.hist(y_pred[:,1], bins, alpha=0.7, label='y_pred_1')\n",
    "#plt.hist(y_pred[:,2], bins, alpha=0.7, label='y_pred_2')\n",
    "\n",
    "# calculation of the peak positions\n",
    "n_PoT, b_PoT, patches_PoT = plt.hist(y_pred[:,0:1]/y_test, bins, alpha=0.7, label='y_pred_0/y_test')\n",
    "n_overT, b_overT, patches_overT = plt.hist(1./y_test, bins, alpha=0.7, label='1./y_test')\n",
    "#plt.hist(ndf.mc_energy, bins, alpha=0.5, label='mc_energy')\n",
    "#plt.hist(ndf.meas_energy, bins, alpha=0.5, label='meas_energy')\n",
    "#plt.ylim(top=11000)  # adjust the top leaving bottom unchanged\n",
    "\n",
    "# Print peak positions.\n",
    "bin_max_PoT = np.where(n_PoT == n_PoT.max())\n",
    "print'maxbin_PoT', b_PoT[bin_max_PoT][0]\n",
    "\n",
    "bin_max_overT = np.where(n_overT == n_overT.max())\n",
    "print'maxbin_overT', b_overT[bin_max_overT][0]\n",
    "\n",
    "\n",
    "plt.rcParams[\"figure.figsize\"] = [15,15]\n",
    "plt.legend(prop={'size': 18}, loc='upper right')\n",
    "#plot.legend(loc=2, prop={'size': 6})\n",
    "plt.xlabel(\"Emc/Emeasured\", fontsize=18)\n",
    "plt.ylabel('Events', fontsize=18)#plt.show()\n",
    "#fig = plt.figure()\n",
    "\n",
    "fig = plt.figure( figsize=(20, 20))\n",
    "fig.set_figheight(20)\n",
    "fig.set_figwidth(30)\n",
    "\n",
    "x1 = mean - std\n",
    "x2 = mean - std\n",
    "y1 = 0\n",
    "y2 = 52000\n",
    "# draw vertical line from (x1,y1) to (x2, y2)\n",
    "#plt.plot([x1, y1], [x2, y2], 'k-', lw=2)\n",
    "\n",
    "\n",
    "\n",
    "plt.savefig(plot_name, dpi=400)"
   ]
  },
  {
   "cell_type": "markdown",
   "metadata": {},
   "source": [
    "### Plot quantiles, a.k.a., the resolution"
   ]
  },
  {
   "cell_type": "code",
   "execution_count": 24,
   "metadata": {},
   "outputs": [
    {
     "name": "stderr",
     "output_type": "stream",
     "text": [
      "/usr/local/bin/start_ipykernel.py:16: DeprecationWarning: object of type <type 'float'> cannot be safely interpreted as an integer.\n"
     ]
    },
    {
     "name": "stdout",
     "output_type": "stream",
     "text": [
      "maxbin_PoT 1.0007253626813406\n",
      "maxbin_overT 0.9961230615307654\n"
     ]
    },
    {
     "data": {
      "image/png": "[encoded data removed]",
      "text/plain": [
       "<Figure size 1080x1080 with 1 Axes>"
      ]
     },
     "metadata": {
      "needs_background": "light"
     },
     "output_type": "display_data"
    },
    {
     "data": {
      "text/plain": [
       "<Figure size 2160x1440 with 0 Axes>"
      ]
     },
     "metadata": {},
     "output_type": "display_data"
    }
   ],
   "source": [
    "plt.title(\"Electron Emc/Emeasured\")\n",
    "\n",
    "plot_name = \"results_model_3outputs_relu_Only3outputs_15aug2019.pdf\"\n",
    "\n",
    "\n",
    "mean = y_test.mean()\n",
    "std = y_test.std()\n",
    "\n",
    "xleft = mean - std*1\n",
    "xright = mean + std*1\n",
    "\n",
    "#print 'Mean minus std is equal to ', xleft\n",
    "#print 'Mean plus std is equal to ', xright\n",
    "\n",
    "bin_size = 0.0001; \n",
    "\n",
    "min_edge = 0.95; max_edge = 1.15\n",
    "bins = 20000 #np.linspace(0.01, 2000, 1000)\n",
    "N = (max_edge-min_edge)/bin_size; Nplus1 = N + 1\n",
    "bin_list = np.linspace(min_edge, max_edge, Nplus1)\n",
    "bins= bin_list\n",
    "\n",
    "plt.grid(axis='y', alpha=0.75)\n",
    "plt.grid(axis='x', alpha=0.75)\n",
    "\n",
    "plt.xlim((min_edge, max_edge))  # adjust the top leaving bottom unchanged\n",
    "\n",
    "plt.hist(y_pred[:,0], bins, alpha=0.5, label='y_pred_0')\n",
    "plt.hist(y_pred[:,1], bins, alpha=0.5, label='y_pred_1')\n",
    "plt.hist(y_pred[:,2], bins, alpha=0.5, label='y_pred_2')\n",
    "#n_PoT, b_PoT, patches_PoT = plt.hist(y_pred[:,0:1]/y_test, bins, alpha=0.7, label='y_pred_0/y_test')\n",
    "#n_overT, b_overT, patches_overT = plt.hist(1./y_test, bins, alpha=0.7, label='1./y_test')\n",
    "#plt.hist(ndf.mc_energy, bins, alpha=0.5, label='mc_energy')\n",
    "#plt.hist(ndf.meas_energy, bins, alpha=0.5, label='meas_energy')\n",
    "#plt.ylim(top=11000)  # adjust the top leaving bottom unchanged\n",
    "\n",
    "\n",
    "bin_max_PoT = np.where(n_PoT == n_PoT.max())\n",
    "print'maxbin_PoT', b_PoT[bin_max_PoT][0]\n",
    "\n",
    "bin_max_overT = np.where(n_overT == n_overT.max())\n",
    "print'maxbin_overT', b_overT[bin_max_overT][0]\n",
    "\n",
    "\n",
    "plt.rcParams[\"figure.figsize\"] = [15,15]\n",
    "plt.legend(prop={'size': 18}, loc='upper right')\n",
    "#plot.legend(loc=2, prop={'size': 6})\n",
    "plt.xlabel(\"Emc/Emeasured\", fontsize=18)\n",
    "plt.ylabel('Events', fontsize=18)#plt.show()\n",
    "#fig = plt.figure()\n",
    "\n",
    "fig = plt.figure( figsize=(20, 20))\n",
    "fig.set_figheight(20)\n",
    "fig.set_figwidth(30)\n",
    "\n",
    "x1 = mean - std\n",
    "x2 = mean - std\n",
    "y1 = 0\n",
    "y2 = 52000\n",
    "# draw vertical line from (x1,y1) to (x2, y2)\n",
    "#plt.plot([x1, y1], [x2, y2], 'k-', lw=2)\n",
    "\n",
    "\n",
    "\n",
    "plt.savefig(plot_name, dpi=400)"
   ]
  },
  {
   "cell_type": "code",
   "execution_count": 39,
   "metadata": {},
   "outputs": [
    {
     "data": {
      "text/plain": [
       "(1720960,)"
      ]
     },
     "execution_count": 39,
     "metadata": {},
     "output_type": "execute_result"
    }
   ],
   "source": []
  },
  {
   "cell_type": "markdown",
   "metadata": {},
   "source": [
    "### Store a variable equal to y_pred/y_test ratio, since after modifying dtypes, division won't be as easy.\n"
   ]
  },
  {
   "cell_type": "code",
   "execution_count": null,
   "metadata": {},
   "outputs": [],
   "source": [
    "y_pred0_over_y_test = y_pred[:, 0:1]/y_test\n",
    "y_pred0 = y_pred[:, 0:1]\n",
    "y_pred_25 = y_pred[:, 1:2]\n",
    "y_pred_75 = y_pred[:, 2:3]"
   ]
  },
  {
   "cell_type": "markdown",
   "metadata": {},
   "source": [
    "## TO store to ROOT format: \n",
    "### 1. Set both(two) dtypes fields for each array to float32: y_pred0, y_test, y_pred0_over_y_test\n",
    "### 2. Run cell with array2root functions below."
   ]
  },
  {
   "cell_type": "code",
   "execution_count": null,
   "metadata": {},
   "outputs": [],
   "source": [
    "# Let's save results to ROOT format\n",
    "from root_numpy import array2root\n",
    "\n",
    "array2root(y_pred0, 'y_pred0.root', 'y_pred0', 'recreate')\n",
    "\n",
    "array2root(y_pred_25, 'y_pred_25.root', 'y_pred_25', 'recreate')\n",
    "array2root(y_pred_75, 'y_pred_75.root', 'y_pred_75', 'recreate')\n",
    "\n",
    "array2root(y_test,  'y_test.root',  'y_test',  'recreate')\n",
    "array2root(y_pred0_over_y_test, 'y_pred0_over_y_test.root', 'y_pred0_over_y_test', 'recreate')"
   ]
  },
  {
   "cell_type": "code",
   "execution_count": null,
   "metadata": {},
   "outputs": [],
   "source": []
  }
 ],
 "metadata": {
  "kernelspec": {
   "display_name": "Python 3",
   "language": "python",
   "name": "python3"
  },
  "language_info": {
   "codemirror_mode": {
    "name": "ipython",
    "version": 3
   },
   "file_extension": ".py",
   "mimetype": "text/x-python",
   "name": "python",
   "nbconvert_exporter": "python",
   "pygments_lexer": "ipython3",
   "version": "3.6.7"
  }
 },
 "nbformat": 4,
 "nbformat_minor": 2
}
