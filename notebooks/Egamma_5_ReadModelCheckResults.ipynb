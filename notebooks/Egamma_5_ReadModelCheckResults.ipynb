{
 "cells": [
  {
   "cell_type": "markdown",
   "metadata": {},
   "source": [
    "# In this notebook we will read in the model that was already trained by some other notebook. \n",
    "## We will use that model to predict new results and produce corresponding plots."
   ]
  },
  {
   "cell_type": "markdown",
   "metadata": {},
   "source": [
    "### Standard imports"
   ]
  },
  {
   "cell_type": "code",
   "execution_count": 2,
   "metadata": {},
   "outputs": [],
   "source": [
    "%matplotlib inline\n",
    "import matplotlib.pyplot as plt\n",
    "import numpy as np  \n",
    "import IPython\n",
    "import pandas as pd\n"
   ]
  },
  {
   "cell_type": "markdown",
   "metadata": {},
   "source": [
    "### Handy function to know how much RAM the notebook is taking"
   ]
  },
  {
   "cell_type": "code",
   "execution_count": 2,
   "metadata": {},
   "outputs": [],
   "source": [
    "#memory usage and release \n",
    "#https://stackoverflow.com/questions/39100971/how-do-i-release-memory-used-by-a-pandas-dataframe\n",
    "\n",
    "import os, psutil  \n",
    "def usage():\n",
    "    process = psutil.Process(os.getpid())\n",
    "    return process.memory_info()[0] / float(2 ** 20)\n"
   ]
  },
  {
   "cell_type": "code",
   "execution_count": 3,
   "metadata": {},
   "outputs": [
    {
     "data": {
      "text/plain": [
       "233.72265625"
      ]
     },
     "execution_count": 3,
     "metadata": {},
     "output_type": "execute_result"
    }
   ],
   "source": [
    "usage()"
   ]
  },
  {
   "cell_type": "code",
   "execution_count": null,
   "metadata": {},
   "outputs": [],
   "source": []
  },
  {
   "cell_type": "markdown",
   "metadata": {},
   "source": [
    "### Read in the files of interest. I am using 'npy' format, which is great for ML. Other formats can be used. I am loading many files, but you need just one - the file to be used for prediction."
   ]
  },
  {
   "cell_type": "code",
   "execution_count": 4,
   "metadata": {},
   "outputs": [],
   "source": [
    "\n",
    "x_train = np.load('x_train.npy')\n",
    "y_train = np.load('y_train.npy')\n",
    "\n",
    "x_test = np.load('x_test.npy')\n",
    "y_test = np.load('y_test.npy')\n",
    "\n",
    "x_val = np.load('x_val.npy')\n",
    "y_val = np.load('y_val.npy')"
   ]
  },
  {
   "cell_type": "markdown",
   "metadata": {},
   "source": [
    "### Define loss functions used during the training. "
   ]
  },
  {
   "cell_type": "code",
   "execution_count": 7,
   "metadata": {},
   "outputs": [],
   "source": [
    "class HuberLoss(object):\n",
    "    \n",
    "    def __init__(self,delta=1.):\n",
    "        self.delta = delta\n",
    "        self.n_params = 1\n",
    "        self.__name__ = 'HuberLoss'\n",
    "        \n",
    "    def __call__(self,y_true,y_pred):\n",
    "        z = K.abs(y_true[:,0] - y_pred[:,0])\n",
    "        mask = K.cast(K.less(z,self.delta),K.floatx())\n",
    "        return K.mean( 0.5*mask*K.square(z) + (1.-mask)*(self.delta*z - 0.5*self.delta**2) )\n",
    "\n",
    "# ---------------------------------------------------------------------------------------------------\n",
    "class QuantileLoss(object):\n",
    "    def __init__(self,taus=[0.5,0.25,0.75],weights=[1.,1.2,0.9]):\n",
    "        self.taus = np.array(taus).reshape(1,-1)\n",
    "        self.weights = np.array(weights).reshape(1,-1)\n",
    "        self.n_params = len(taus)\n",
    "        self.__name__ = 'QuantileLoss'\n",
    "        \n",
    "    def __call__(self,y_true,y_pred):\n",
    "        e = y_true - y_pred\n",
    "        print(e.shape)\n",
    "        return K.mean( self.weights*( self.taus*e + K.clip( -e, K.epsilon(), np.inf ) ) )\n",
    "\n",
    "# ---------------------------------------------------------------------------------------------------\n",
    "class HybridLoss(object):\n",
    "\n",
    "    def __init__(self,delta=1.,taus=[0.25,0.75],weights=[1.]):\n",
    "        self.__name__ = 'HybridLoss'\n",
    "        self.huber = HuberLoss(delta)\n",
    "        self.quantiles = QuantileLoss(taus,weights)\n",
    "        self.n_params = self.huber.n_params + self.quantiles.n_params\n",
    "        \n",
    "    def __call__(self,y_true,y_pred):\n",
    "        return self.huber(y_true,y_pred) + self.quantiles(y_true,y_pred[:,1:])\n",
    "    "
   ]
  },
  {
   "cell_type": "markdown",
   "metadata": {},
   "source": [
    "### Additional functions just for compliteness, can be skipped."
   ]
  },
  {
   "cell_type": "code",
   "execution_count": 7,
   "metadata": {},
   "outputs": [],
   "source": [
    "    \n",
    "# ---------------------------------------------------------------------------------------------------\n",
    "def gauss_nll(y_true,y_pred):\n",
    "    mean   = y_pred[:,0]\n",
    "    sigma2 = K.square(y_pred[:,0]) + 0.01**2\n",
    "    z2 = K.square( y_true[:,0] - mean) / sigma2\n",
    "    return 0.5*K.mean( z2 + 0.5*K.log(sigma2), axis=-1 )\n",
    "    ## return K.mean(K.square(y_true-y_pred))\n",
    "\n",
    "# ---------------------------------------------------------------------------------------------------\n",
    "def mse0(y_true,y_pred):\n",
    "    return K.mean( K.square(y_true[:,0] - y_pred[:,0]) )\n",
    "\n",
    "# ---------------------------------------------------------------------------------------------------\n",
    "def mae0(y_true,y_pred):\n",
    "    return K.mean( K.abs(y_true[:,0] - y_pred[:,0]) )\n",
    "\n",
    "# ---------------------------------------------------------------------------------------------------\n",
    "def r2_score0(y_true,y_pred):\n",
    "    return 1. - K.sum( K.square(y_true[:,0] - y_pred[:,0]) ) / K.sum( K.square(y_true[:,0] - K.mean(y_true[:,0]) ) )"
   ]
  },
  {
   "cell_type": "markdown",
   "metadata": {},
   "source": [
    "### Create the function object to be passed to the Keras 'load_model', since we used a custom Loss function."
   ]
  },
  {
   "cell_type": "code",
   "execution_count": 9,
   "metadata": {},
   "outputs": [],
   "source": [
    "quantiles_and_Huber_Loss = HybridLoss()"
   ]
  },
  {
   "cell_type": "markdown",
   "metadata": {},
   "source": [
    "### Import to load the already trained model, printed dimensions will be (?,2)"
   ]
  },
  {
   "cell_type": "code",
   "execution_count": 14,
   "metadata": {},
   "outputs": [
    {
     "name": "stdout",
     "output_type": "stream",
     "text": [
      "(?, 2)\n"
     ]
    }
   ],
   "source": [
    "from keras.models import load_model\n",
    "import h5py\n",
    "from keras import backend as K\n",
    "\n",
    "model = load_model('my_model_4.h5', custom_objects={'HybridLoss': quantiles_and_Huber_Loss})"
   ]
  },
  {
   "cell_type": "markdown",
   "metadata": {},
   "source": [
    "### Using test data set, make prediction with our model."
   ]
  },
  {
   "cell_type": "code",
   "execution_count": 15,
   "metadata": {},
   "outputs": [
    {
     "data": {
      "text/plain": [
       "array([[1.0117241, 1.0013609, 1.0220481],\n",
       "       [1.0877352, 1.0306398, 1.1234134],\n",
       "       [1.0460107, 1.0154383, 1.0732796],\n",
       "       ...,\n",
       "       [1.0399622, 1.0143917, 1.0557586],\n",
       "       [1.0515817, 1.0194468, 1.0617448],\n",
       "       [1.0619209, 1.0169103, 1.0634538]], dtype=float32)"
      ]
     },
     "execution_count": 15,
     "metadata": {},
     "output_type": "execute_result"
    }
   ],
   "source": [
    "y_pred = model.predict(x_test)\n",
    "y_pred"
   ]
  },
  {
   "cell_type": "markdown",
   "metadata": {},
   "source": [
    "### Plot the estimate (ratio) and other important ratios of interest."
   ]
  },
  {
   "cell_type": "code",
   "execution_count": 16,
   "metadata": {},
   "outputs": [
    {
     "name": "stderr",
     "output_type": "stream",
     "text": [
      "/usr/local/bin/start_ipykernel.py:16: DeprecationWarning: object of type <type 'float'> cannot be safely interpreted as an integer.\n"
     ]
    },
    {
     "data": {
      "image/png": "[encoded data removed]",
      "text/plain": [
       "<Figure size 432x288 with 1 Axes>"
      ]
     },
     "metadata": {
      "needs_background": "light"
     },
     "output_type": "display_data"
    }
   ],
   "source": [
    "plt.title(\"Electron Emc/Emeasured\")\n",
    "plot_name = 'results.pdf'\n",
    "# add extra 0 if want a finer binning.\n",
    "bin_size = 0.001; \n",
    "\n",
    "bins = 20000 \n",
    "min_edge = 0.95; max_edge = 1.15\n",
    "N = (max_edge-min_edge)/bin_size; Nplus1 = N + 1\n",
    "bin_list = np.linspace(min_edge, max_edge, Nplus1)\n",
    "bins= bin_list\n",
    "\n",
    "plt.grid(axis='y', alpha=0.75)\n",
    "plt.grid(axis='x', alpha=0.75)\n",
    "\n",
    "plt.xlim((min_edge, max_edge))  # adjust the top leaving bottom unchanged\n",
    "\n",
    "# The convention is that 0th element is the main estimate, and 1th and 2nd elements in \n",
    "# the y_pred array(array of 3 elements) are 25 and 75% quantiles correspondingly.\n",
    "\n",
    "# To plot the estimate, use '0:1', for 25% quantile '1:2', for 75% quantile use '2:3'.\n",
    "plt.hist(y_pred[:,0:1], bins, alpha=0.7, label='y_pred')\n",
    "plt.hist(y_test, bins, alpha=0.7, label='y_test')\n",
    "\n",
    "plt.rcParams[\"figure.figsize\"] = [15,15]\n",
    "plt.legend(prop={'size': 18}, loc='upper right')\n",
    "#plot.legend(loc=2, prop={'size': 6})\n",
    "plt.xlabel(\"Emc/Emeasured\", fontsize=18)\n",
    "plt.ylabel('Events', fontsize=18)#plt.show()\n",
    "\n",
    "# May need to uncomment lines below if the picture is small.\n",
    "\n",
    "#fig = plt.figure( figsize=(20, 20))\n",
    "#fig.set_figheight(20)\n",
    "#fig.set_figwidth(30)\n",
    "\n",
    "\n",
    "\n",
    "plt.savefig(plot_name, dpi=400)"
   ]
  },
  {
   "cell_type": "markdown",
   "metadata": {},
   "source": [
    "### Plot the estimate and quantiles."
   ]
  },
  {
   "cell_type": "code",
   "execution_count": 19,
   "metadata": {},
   "outputs": [
    {
     "name": "stderr",
     "output_type": "stream",
     "text": [
      "/usr/local/bin/start_ipykernel.py:16: DeprecationWarning: object of type <type 'float'> cannot be safely interpreted as an integer.\n"
     ]
    },
    {
     "data": {
      "image/png": "[encoded data removed]",
      "text/plain": [
       "<Figure size 1080x1080 with 1 Axes>"
      ]
     },
     "metadata": {
      "needs_background": "light"
     },
     "output_type": "display_data"
    }
   ],
   "source": [
    "plt.title(\"Electron Emc/Emeasured\")\n",
    "plot_name = 'Estimate_and_quantiles.pdf'\n",
    "# add extra 0 if want a finer binning.\n",
    "bin_size = 0.001; \n",
    "\n",
    "bins = 20000 \n",
    "min_edge = 0.95; max_edge = 1.15\n",
    "N = (max_edge-min_edge)/bin_size; Nplus1 = N + 1\n",
    "bin_list = np.linspace(min_edge, max_edge, Nplus1)\n",
    "bins= bin_list\n",
    "\n",
    "plt.grid(axis='y', alpha=0.75)\n",
    "plt.grid(axis='x', alpha=0.75)\n",
    "\n",
    "plt.xlim((min_edge, max_edge))  # adjust the top leaving bottom unchanged\n",
    "\n",
    "# The convention is that 0th element is the main estimate, and 1th and 2nd elements in \n",
    "# the y_pred array(array of 3 elements) are 25 and 75% quantiles correspondingly.\n",
    "\n",
    "# To plot the estimate, use '0:1', for 25% quantile '1:2', for 75% quantile use '2:3'.\n",
    "plt.hist(y_pred[:,0:1], bins, alpha=0.7, label='y_pred')\n",
    "plt.hist(y_pred[:,1:2], bins, alpha=0.7, label='y_pred_25')\n",
    "plt.hist(y_pred[:,2:3], bins, alpha=0.7, label='y_pred_75')\n",
    "\n",
    "plt.rcParams[\"figure.figsize\"] = [15,15]\n",
    "plt.legend(prop={'size': 18}, loc='upper right')\n",
    "#plot.legend(loc=2, prop={'size': 6})\n",
    "plt.xlabel(\"Emc/Emeasured\", fontsize=18)\n",
    "plt.ylabel('Events', fontsize=18)#plt.show()\n",
    "\n",
    "# May need to uncomment lines below if the picture is small.\n",
    "\n",
    "#fig = plt.figure( figsize=(20, 20))\n",
    "#fig.set_figheight(20)\n",
    "#fig.set_figwidth(30)\n",
    "\n",
    "\n",
    "\n",
    "plt.savefig(plot_name, dpi=400)"
   ]
  },
  {
   "cell_type": "code",
   "execution_count": null,
   "metadata": {},
   "outputs": [],
   "source": []
  }
 ],
 "metadata": {
  "kernelspec": {
   "display_name": "Python 3",
   "language": "python",
   "name": "python3"
  },
  "language_info": {
   "codemirror_mode": {
    "name": "ipython",
    "version": 3
   },
   "file_extension": ".py",
   "mimetype": "text/x-python",
   "name": "python",
   "nbconvert_exporter": "python",
   "pygments_lexer": "ipython3",
   "version": "3.6.7"
  }
 },
 "nbformat": 4,
 "nbformat_minor": 2
}
